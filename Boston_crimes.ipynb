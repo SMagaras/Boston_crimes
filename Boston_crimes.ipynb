{
 "cells": [
  {
   "cell_type": "code",
   "execution_count": 146,
   "id": "30109830-1769-4568-b517-ba621548c2c4",
   "metadata": {},
   "outputs": [],
   "source": [
    "import findspark\n",
    "findspark.init('/opt/spark')"
   ]
  },
  {
   "cell_type": "code",
   "execution_count": 147,
   "id": "ce7b14d6-b626-4d71-85d5-ec11a45ffcbc",
   "metadata": {},
   "outputs": [],
   "source": [
    "from pyspark.sql import SparkSession"
   ]
  },
  {
   "cell_type": "code",
   "execution_count": 148,
   "id": "8b61674c-6ada-4384-a384-a1ffe59dad05",
   "metadata": {},
   "outputs": [],
   "source": [
    "spark = SparkSession.builder\\\n",
    "    .getOrCreate()\n",
    "\n",
    "spark.conf.set(\"spark.sql.autoBroadcastJoinThreshold\", -1)"
   ]
  },
  {
   "cell_type": "code",
   "execution_count": 4,
   "id": "6eac3cf3-6efb-4a48-a36b-3c5b61ae0b6a",
   "metadata": {},
   "outputs": [],
   "source": [
    "! hdfs dfs -mkdir /tmp/boston_crimes"
   ]
  },
  {
   "cell_type": "code",
   "execution_count": 5,
   "id": "e7cd68a3-b310-4fde-b0c7-2f5c093ead57",
   "metadata": {},
   "outputs": [],
   "source": [
    "! hdfs dfs -put crime.csv /tmp/boston_crimes"
   ]
  },
  {
   "cell_type": "code",
   "execution_count": 8,
   "id": "e4f47f5c-4371-4213-b938-47edf4fa29e6",
   "metadata": {},
   "outputs": [],
   "source": [
    "! hdfs dfs -put offense_codes.csv /tmp/boston_crimes"
   ]
  },
  {
   "cell_type": "code",
   "execution_count": 149,
   "id": "a291b66b-7927-4357-b1a6-b8c8ca19150d",
   "metadata": {},
   "outputs": [
    {
     "name": "stdout",
     "output_type": "stream",
     "text": [
      "Found 2 items\n",
      "-rw-r--r--   2 jupyter supergroup   57969510 2024-12-26 22:48 /tmp/boston_crimes/crime.csv\n",
      "-rw-r--r--   2 jupyter supergroup      19406 2024-12-26 23:15 /tmp/boston_crimes/offense_codes.csv\n"
     ]
    }
   ],
   "source": [
    "! hdfs dfs -ls /tmp/boston_crimes"
   ]
  },
  {
   "cell_type": "code",
   "execution_count": 150,
   "id": "9b46ff20-49ef-4b60-a22b-22042cf7c677",
   "metadata": {},
   "outputs": [
    {
     "name": "stderr",
     "output_type": "stream",
     "text": [
      "[Stage 181:>                                                        (0 + 2) / 2]\r"
     ]
    },
    {
     "name": "stdout",
     "output_type": "stream",
     "text": [
      "+---------------+------------+--------------------+--------------------+--------+--------------+--------+-------------------+----+-----+-----------+----+----------+-----------------+-----------+------------+--------------------+\n",
      "|INCIDENT_NUMBER|OFFENSE_CODE|  OFFENSE_CODE_GROUP| OFFENSE_DESCRIPTION|DISTRICT|REPORTING_AREA|SHOOTING|   OCCURRED_ON_DATE|YEAR|MONTH|DAY_OF_WEEK|HOUR|  UCR_PART|           STREET|        Lat|        Long|            Location|\n",
      "+---------------+------------+--------------------+--------------------+--------+--------------+--------+-------------------+----+-----+-----------+----+----------+-----------------+-----------+------------+--------------------+\n",
      "|     I182070945|         619|             Larceny|  LARCENY ALL OTHERS|     D14|           808|    null|2018-09-02 13:00:00|2018|    9|     Sunday|  13|  Part One|       LINCOLN ST|42.35779134|-71.13937053|(42.35779134, -71...|\n",
      "|     I182070943|        1402|           Vandalism|           VANDALISM|     C11|           347|    null|2018-08-21 00:00:00|2018|    8|    Tuesday|   0|  Part Two|         HECLA ST|42.30682138|-71.06030035|(42.30682138, -71...|\n",
      "|     I182070941|        3410|               Towed| TOWED MOTOR VEHICLE|      D4|           151|    null|2018-09-03 19:27:00|2018|    9|     Monday|  19|Part Three|      CAZENOVE ST|42.34658879|-71.07242943|(42.34658879, -71...|\n",
      "|     I182070940|        3114|Investigate Property|INVESTIGATE PROPERTY|      D4|           272|    null|2018-09-03 21:16:00|2018|    9|     Monday|  21|Part Three|       NEWCOMB ST|42.33418175|-71.07866441|(42.33418175, -71...|\n",
      "|     I182070938|        3114|Investigate Property|INVESTIGATE PROPERTY|      B3|           421|    null|2018-09-03 21:05:00|2018|    9|     Monday|  21|Part Three|         DELHI ST|42.27536542|-71.09036101|(42.27536542, -71...|\n",
      "|     I182070936|        3820|Motor Vehicle Acc...|M/V ACCIDENT INVO...|     C11|           398|    null|2018-09-03 21:09:00|2018|    9|     Monday|  21|Part Three|       TALBOT AVE|42.29019621|-71.07159012|(42.29019621, -71...|\n",
      "|     I182070933|         724|          Auto Theft|          AUTO THEFT|      B2|           330|    null|2018-09-03 21:25:00|2018|    9|     Monday|  21|  Part One|      NORMANDY ST|42.30607218| -71.0827326|(42.30607218, -71...|\n",
      "|     I182070932|        3301|     Verbal Disputes|      VERBAL DISPUTE|      B2|           584|    null|2018-09-03 20:39:37|2018|    9|     Monday|  20|Part Three|          LAWN ST|42.32701648|-71.10555088|(42.32701648, -71...|\n",
      "|     I182070931|         301|             Robbery|    ROBBERY - STREET|      C6|           177|    null|2018-09-03 20:48:00|2018|    9|     Monday|  20|  Part One|MASSACHUSETTS AVE|42.33152148|-71.07085307|(42.33152148, -71...|\n",
      "|     I182070929|        3301|     Verbal Disputes|      VERBAL DISPUTE|     C11|           364|    null|2018-09-03 20:38:00|2018|    9|     Monday|  20|Part Three|        LESLIE ST|42.29514664|-71.05860832|(42.29514664, -71...|\n",
      "|     I182070928|        3301|     Verbal Disputes|      VERBAL DISPUTE|      C6|           913|    null|2018-09-03 19:55:00|2018|    9|     Monday|  19|Part Three|    OCEAN VIEW DR|42.31957856|-71.04032766|(42.31957856, -71...|\n",
      "|     I182070927|        3114|Investigate Property|INVESTIGATE PROPERTY|      C6|           936|    null|2018-09-03 20:19:00|2018|    9|     Monday|  20|Part Three|      DALESSIO CT|42.34011469|-71.05339029|(42.34011469, -71...|\n",
      "|     I182070923|        3108|Fire Related Reports|FIRE REPORT - HOU...|      D4|           139|    null|2018-09-03 19:58:00|2018|    9|     Monday|  19|Part Three|   MARLBOROUGH ST| 42.3503876| -71.0878529|(42.35038760, -71...|\n",
      "|     I182070922|        2647|               Other|THREATS TO DO BOD...|      B3|           429|    null|2018-09-03 20:39:00|2018|    9|     Monday|  20|  Part Two|      WOODROW AVE|42.28647012|-71.08714661|(42.28647012, -71...|\n",
      "|     I182070921|        3201|       Property Lost|     PROPERTY - LOST|      B3|           469|    null|2018-09-02 14:00:00|2018|    9|     Sunday|  14|Part Three|        MULVEY ST|42.27924052|-71.09667382|(42.27924052, -71...|\n",
      "|     I182070920|        3006|  Medical Assistance|SICK/INJURED/MEDI...|    null|              |    null|2018-09-03 19:43:00|2018|    9|     Monday|  19|Part Three|             null|42.35287456| -71.0738297|(42.35287456, -71...|\n",
      "|     I182070919|        3301|     Verbal Disputes|      VERBAL DISPUTE|     C11|           341|    null|2018-09-03 18:52:00|2018|    9|     Monday|  18|Part Three|    STONEHURST ST|42.30526428|-71.06683755|(42.30526428, -71...|\n",
      "|     I182070918|        3305|Assembly or Gathe...| DEMONSTRATIONS/RIOT|      D4|           130|    null|2018-09-03 17:00:00|2018|    9|     Monday|  17|Part Three|   HUNTINGTON AVE|42.34857652|-71.07772012|(42.34857652, -71...|\n",
      "|     I182070917|        2647|               Other|THREATS TO DO BOD...|      B2|           901|    null|2018-09-03 19:52:00|2018|    9|     Monday|  19|  Part Two|      HORADAN WAY|42.33371742|-71.09665806|(42.33371742, -71...|\n",
      "|     I182070915|         614|Larceny From Moto...|LARCENY THEFT FRO...|      B2|           181|    null|2018-09-02 18:00:00|2018|    9|     Sunday|  18|  Part One|       SHIRLEY ST| 42.3256949|-71.06816778|(42.32569490, -71...|\n",
      "+---------------+------------+--------------------+--------------------+--------+--------------+--------+-------------------+----+-----+-----------+----+----------+-----------------+-----------+------------+--------------------+\n",
      "only showing top 20 rows\n",
      "\n"
     ]
    },
    {
     "name": "stderr",
     "output_type": "stream",
     "text": [
      "                                                                                \r"
     ]
    }
   ],
   "source": [
    "CrimeBoston = spark.read.option(\"header\", \"true\").option(\"inferSchema\", \"true\").csv(\"/tmp/boston_crimes/crime.csv\")\n",
    "CrimeBoston.show()"
   ]
  },
  {
   "cell_type": "code",
   "execution_count": 151,
   "id": "98185d0a-7a19-4cab-85a0-b0bc40e8a512",
   "metadata": {},
   "outputs": [
    {
     "name": "stdout",
     "output_type": "stream",
     "text": [
      "+----+--------------------+\n",
      "|CODE|                NAME|\n",
      "+----+--------------------+\n",
      "| 612|LARCENY PURSE SNA...|\n",
      "| 613| LARCENY SHOPLIFTING|\n",
      "| 615|LARCENY THEFT OF ...|\n",
      "|1731|              INCEST|\n",
      "|3111|LICENSE PREMISE V...|\n",
      "|2646|LIQUOR - DRINKING...|\n",
      "|2204|LIQUOR LAW VIOLATION|\n",
      "|3810|M/V ACCIDENT - IN...|\n",
      "|3801|M/V ACCIDENT - OTHER|\n",
      "|3807|M/V ACCIDENT - OT...|\n",
      "|3803|M/V ACCIDENT - PE...|\n",
      "|3805|M/V ACCIDENT - PO...|\n",
      "|3802|M/V ACCIDENT - PR...|\n",
      "|3205|   M/V PLATES - LOST|\n",
      "| 123|MANSLAUGHTER - NO...|\n",
      "| 121|MANSLAUGHTER - VE...|\n",
      "|3501|      MISSING PERSON|\n",
      "|3502|MISSING PERSON - ...|\n",
      "|3503|MISSING PERSON - ...|\n",
      "| 111|MURDER, NON-NEGLI...|\n",
      "+----+--------------------+\n",
      "only showing top 20 rows\n",
      "\n"
     ]
    }
   ],
   "source": [
    "OfCodes = spark.read.option(\"header\", \"true\").option(\"inferSchema\", \"true\").csv(\"/tmp/boston_crimes/offense_codes.csv\")\n",
    "OfCodes.show()"
   ]
  },
  {
   "cell_type": "code",
   "execution_count": 93,
   "id": "dd4b81a8-f8dc-4bcb-a86e-aed28d8917ac",
   "metadata": {},
   "outputs": [],
   "source": [
    "#общее количество преступлений в районе"
   ]
  },
  {
   "cell_type": "code",
   "execution_count": 285,
   "id": "0cebd051-2a60-4922-b1a5-e13556d1893a",
   "metadata": {},
   "outputs": [],
   "source": [
    "from pyspark.sql.functions import concat, lit"
   ]
  },
  {
   "cell_type": "code",
   "execution_count": 286,
   "id": "f678eb33-fa3d-416a-8738-ebbe7e0837c8",
   "metadata": {},
   "outputs": [],
   "source": [
    "CrimeStats = CrimeBoston.groupBy('DISTRICT','YEAR','MONTH').count().withColumnRenamed('count', 'crimes_total')"
   ]
  },
  {
   "cell_type": "code",
   "execution_count": 287,
   "id": "c51b7150-a6ea-4e5d-bae6-ab8145bbd0d3",
   "metadata": {},
   "outputs": [],
   "source": [
    "CrimeStats.createOrReplaceTempView(\"CrimeStats_df\")"
   ]
  },
  {
   "cell_type": "code",
   "execution_count": 289,
   "id": "6276910a-9639-40d5-b35e-31529387e678",
   "metadata": {},
   "outputs": [],
   "source": [
    "CrimeStatsTotal = spark.sql(\"SELECT DISTRICT, sum(crimes_total) as crimes_total from CrimeStats_df group by DISTRICT order by DISTRICT desc\")"
   ]
  },
  {
   "cell_type": "code",
   "execution_count": 290,
   "id": "821ac0a8-5110-4169-829c-bcae5fdd65ad",
   "metadata": {},
   "outputs": [
    {
     "name": "stdout",
     "output_type": "stream",
     "text": [
      "+--------+------------+\n",
      "|DISTRICT|crimes_total|\n",
      "+--------+------------+\n",
      "|      E5|       13239|\n",
      "|     E18|       17348|\n",
      "|     E13|       17536|\n",
      "|      D4|       41915|\n",
      "|     D14|       20127|\n",
      "|      C6|       23460|\n",
      "|     C11|       42530|\n",
      "|      B3|       35442|\n",
      "|      B2|       49945|\n",
      "|      A7|       13544|\n",
      "|     A15|        6505|\n",
      "|      A1|       35717|\n",
      "|    null|        1765|\n",
      "+--------+------------+\n",
      "\n"
     ]
    }
   ],
   "source": [
    "CrimeStatsTotal.show()"
   ]
  },
  {
   "cell_type": "code",
   "execution_count": 226,
   "id": "4e10962f-7a02-45bf-9036-84d96c346518",
   "metadata": {},
   "outputs": [],
   "source": [
    "CrimeStatsMonthly = CrimeStats.withColumn('month_year', (concat(col('MONTH'), lit(\"_\"), col('YEAR'))))"
   ]
  },
  {
   "cell_type": "code",
   "execution_count": 227,
   "id": "9090bc08-5706-4c98-8717-42bbad78bcd5",
   "metadata": {},
   "outputs": [
    {
     "name": "stdout",
     "output_type": "stream",
     "text": [
      "+--------+----+-----+------------+----------+\n",
      "|DISTRICT|YEAR|MONTH|crimes_total|month_year|\n",
      "+--------+----+-----+------------+----------+\n",
      "|     C11|2015|    9|        1147|    9_2015|\n",
      "|     A15|2016|    6|         203|    6_2016|\n",
      "|      C6|2015|   10|         593|   10_2015|\n",
      "|     E13|2017|    4|         439|    4_2017|\n",
      "|      B3|2015|   11|         845|   11_2015|\n",
      "|     C11|2017|    2|        1048|    2_2017|\n",
      "|      E5|2015|   12|         335|   12_2015|\n",
      "|      A7|2016|    2|         309|    2_2016|\n",
      "|      A7|2015|   11|         356|   11_2015|\n",
      "|      B2|2015|   10|        1373|   10_2015|\n",
      "|      B3|2015|   10|         835|   10_2015|\n",
      "|      D4|2017|    4|        1077|    4_2017|\n",
      "|      C6|2016|    5|         585|    5_2016|\n",
      "|     A15|2016|    3|         155|    3_2016|\n",
      "|     E13|2015|    9|         468|    9_2015|\n",
      "|     A15|2015|    8|         150|    8_2015|\n",
      "|     D14|2016|   10|         559|   10_2016|\n",
      "|      D4|2015|   10|        1072|   10_2015|\n",
      "|     E18|2016|    1|         410|    1_2016|\n",
      "|      A7|2015|    9|         398|    9_2015|\n",
      "+--------+----+-----+------------+----------+\n",
      "only showing top 20 rows\n",
      "\n"
     ]
    }
   ],
   "source": [
    "CrimeStatsMonthly.show()"
   ]
  },
  {
   "cell_type": "code",
   "execution_count": 228,
   "id": "1abd32ae-c2fa-4d2e-96f8-1132522ddddd",
   "metadata": {},
   "outputs": [],
   "source": [
    "#медиана числа преступлений в месяц в районе"
   ]
  },
  {
   "cell_type": "code",
   "execution_count": 274,
   "id": "003f4a26-d004-4456-9b35-e8c25fe8db36",
   "metadata": {},
   "outputs": [],
   "source": [
    "CrimeStatsMonthly.createOrReplaceTempView(\"CrimeStatsMonthly2\")"
   ]
  },
  {
   "cell_type": "code",
   "execution_count": 276,
   "id": "3d0102a2-2b19-4eda-a807-0bb70b5c07c6",
   "metadata": {},
   "outputs": [],
   "source": [
    "MedianMonthlyStats = spark.sql(\"SELECT DISTRICT, median(crimes_total) as crimes_monthly from CrimeStatsMonthly2 group by DISTRICT order by DISTRICT desc\")"
   ]
  },
  {
   "cell_type": "code",
   "execution_count": 277,
   "id": "4695416e-0823-4c1b-85c5-22950eca9d4a",
   "metadata": {},
   "outputs": [
    {
     "name": "stdout",
     "output_type": "stream",
     "text": [
      "+--------+--------------+\n",
      "|DISTRICT|crimes_monthly|\n",
      "+--------+--------------+\n",
      "|      E5|         337.5|\n",
      "|     E18|         437.5|\n",
      "|     E13|         446.5|\n",
      "|      D4|        1086.0|\n",
      "|     D14|         510.5|\n",
      "|      C6|         595.5|\n",
      "|     C11|        1117.0|\n",
      "|      B3|         913.0|\n",
      "|      B2|        1301.0|\n",
      "|      A7|         345.0|\n",
      "|     A15|         162.5|\n",
      "|      A1|         909.5|\n",
      "|    null|          41.0|\n",
      "+--------+--------------+\n",
      "\n"
     ]
    }
   ],
   "source": [
    "MedianMonthlyStats.show()"
   ]
  },
  {
   "cell_type": "code",
   "execution_count": 233,
   "id": "385974cc-48ba-4f22-89d3-914eb50bd8cf",
   "metadata": {},
   "outputs": [],
   "source": [
    "#координаты районов"
   ]
  },
  {
   "cell_type": "code",
   "execution_count": 250,
   "id": "3b0171d6-4b8c-40aa-9c7f-5f70e972e22e",
   "metadata": {},
   "outputs": [],
   "source": [
    "CrimePlace = CrimeBoston.groupBy('DISTRICT').avg('lat','Long').withColumnRenamed('avg(lat)', 'lat').withColumnRenamed('avg(Long)', 'lng')"
   ]
  },
  {
   "cell_type": "code",
   "execution_count": 251,
   "id": "7465242b-eedc-4b5a-9558-1bf0fedabdc3",
   "metadata": {},
   "outputs": [
    {
     "name": "stdout",
     "output_type": "stream",
     "text": [
      "+--------+------------------+------------------+\n",
      "|DISTRICT|               lat|               lng|\n",
      "+--------+------------------+------------------+\n",
      "|      C6| 42.21212258445509|-70.85561011772268|\n",
      "|    null| 25.23950519369344|-43.44877438704257|\n",
      "|      B2| 42.31600367732632| -71.0756993065438|\n",
      "|     C11| 42.29263740899965|-71.05125995734306|\n",
      "|     E13|42.309803655709324|-71.09800478878299|\n",
      "|      B3| 42.28305944520085|-71.07894914185519|\n",
      "|      E5|42.197969994470235|-71.00440862434776|\n",
      "|     A15|42.179155250910874|-70.74472508958492|\n",
      "|      A7| 42.36070260499406| -71.0039483303988|\n",
      "|     D14|  42.3435072451093|-71.13125461726422|\n",
      "|      D4|42.341242517909265|-71.07725024947149|\n",
      "|     E18|  42.2626806112253| -71.1189199875768|\n",
      "|      A1| 42.33123077259858|-71.01991881361955|\n",
      "+--------+------------------+------------------+\n",
      "\n"
     ]
    }
   ],
   "source": [
    "CrimePlace.show()"
   ]
  },
  {
   "cell_type": "code",
   "execution_count": null,
   "id": "76ca78e3-798e-45f7-bf7a-712a33a9b652",
   "metadata": {},
   "outputs": [],
   "source": [
    "#объединение"
   ]
  },
  {
   "cell_type": "code",
   "execution_count": 294,
   "id": "6afcde9c-1b06-4d25-8a98-fa684d1c8121",
   "metadata": {},
   "outputs": [
    {
     "name": "stdout",
     "output_type": "stream",
     "text": [
      "+--------+--------------+------------------+------------------+\n",
      "|DISTRICT|crimes_monthly|               lat|               lng|\n",
      "+--------+--------------+------------------+------------------+\n",
      "|      A1|         909.5| 42.33123077259858|-71.01991881361955|\n",
      "|     A15|         162.5|42.179155250910874|-70.74472508958492|\n",
      "|      A7|         345.0| 42.36070260499406| -71.0039483303988|\n",
      "|      B2|        1301.0| 42.31600367732632| -71.0756993065438|\n",
      "|      B3|         913.0| 42.28305944520085|-71.07894914185519|\n",
      "|     C11|        1117.0| 42.29263740899965|-71.05125995734306|\n",
      "|      C6|         595.5| 42.21212258445509|-70.85561011772268|\n",
      "|     D14|         510.5|  42.3435072451093|-71.13125461726422|\n",
      "|      D4|        1086.0|42.341242517909265|-71.07725024947149|\n",
      "|     E13|         446.5|42.309803655709324|-71.09800478878299|\n",
      "|     E18|         437.5|  42.2626806112253| -71.1189199875768|\n",
      "|      E5|         337.5|42.197969994470235|-71.00440862434776|\n",
      "+--------+--------------+------------------+------------------+\n",
      "\n"
     ]
    }
   ],
   "source": [
    "BostonCrimeTotal1 = (CrimePlace.alias('a')\n",
    "                .join(MedianMonthlyStats.alias('b'), MedianMonthlyStats[\"DISTRICT\"] == CrimePlace[\"DISTRICT\"])).select('a.DISTRICT', 'b.crimes_monthly', 'a.lat', 'a.lng')\n",
    "\n",
    "BostonCrimeTotal1.show()"
   ]
  },
  {
   "cell_type": "code",
   "execution_count": 296,
   "id": "65657752-de4c-422b-96b6-eb94c632dab8",
   "metadata": {},
   "outputs": [
    {
     "name": "stdout",
     "output_type": "stream",
     "text": [
      "+--------+------------+--------------+------------------+------------------+\n",
      "|DISTRICT|crimes_total|crimes_monthly|               lat|               lng|\n",
      "+--------+------------+--------------+------------------+------------------+\n",
      "|      A1|       35717|         909.5| 42.33123077259858|-71.01991881361955|\n",
      "|     A15|        6505|         162.5|42.179155250910874|-70.74472508958492|\n",
      "|      A7|       13544|         345.0| 42.36070260499406| -71.0039483303988|\n",
      "|      B2|       49945|        1301.0| 42.31600367732632| -71.0756993065438|\n",
      "|      B3|       35442|         913.0| 42.28305944520085|-71.07894914185519|\n",
      "|     C11|       42530|        1117.0| 42.29263740899965|-71.05125995734306|\n",
      "|      C6|       23460|         595.5| 42.21212258445509|-70.85561011772268|\n",
      "|     D14|       20127|         510.5|  42.3435072451093|-71.13125461726422|\n",
      "|      D4|       41915|        1086.0|42.341242517909265|-71.07725024947149|\n",
      "|     E13|       17536|         446.5|42.309803655709324|-71.09800478878299|\n",
      "|     E18|       17348|         437.5|  42.2626806112253| -71.1189199875768|\n",
      "|      E5|       13239|         337.5|42.197969994470235|-71.00440862434776|\n",
      "+--------+------------+--------------+------------------+------------------+\n",
      "\n"
     ]
    }
   ],
   "source": [
    "BostonCrimeTotal = (BostonCrimeTotal1.alias('a').join(CrimeStatsTotal.alias('b'), CrimeStatsTotal[\"DISTRICT\"] == BostonCrimeTotal1[\"DISTRICT\"])).select('a.DISTRICT', 'b.crimes_total', 'a.crimes_monthly', 'a.lat', 'a.lng').orderBy('a.DISTRICT')\n",
    "\n",
    "BostonCrimeTotal.show()"
   ]
  }
 ],
 "metadata": {
  "kernelspec": {
   "display_name": "Python 3 (ipykernel)",
   "language": "python",
   "name": "python3"
  },
  "language_info": {
   "codemirror_mode": {
    "name": "ipython",
    "version": 3
   },
   "file_extension": ".py",
   "mimetype": "text/x-python",
   "name": "python",
   "nbconvert_exporter": "python",
   "pygments_lexer": "ipython3",
   "version": "3.11.6"
  }
 },
 "nbformat": 4,
 "nbformat_minor": 5
}
